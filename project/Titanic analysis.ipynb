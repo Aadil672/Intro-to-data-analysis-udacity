{
 "cells": [
  {
   "cell_type": "markdown",
   "metadata": {},
   "source": [
    "# Titanic dataset analysis \n",
    "\n",
    "                                        \n",
    "## here we will try to find what factors affected the survival of people?\n",
    "- age\n",
    "- sex ?\n",
    "- was it affected by the socio-economic status (SES) by checking the (ticket class) versus the survival?\n",
    "- passenger fare?\n",
    "- number of children with parents? (parch)\n",
    "-  number of siblings / spouses aboard the Titanic\n",
    "\n",
    "- more than one factor females and children below 18 more likely ?\n",
    "\n",
    " \n"
   ]
  },
  {
   "cell_type": "code",
   "execution_count": 7,
   "metadata": {},
   "outputs": [
    {
     "name": "stdout",
     "output_type": "stream",
     "text": [
      "   PassengerId  Survived  Pclass  \\\n",
      "0            1         0       3   \n",
      "1            2         1       1   \n",
      "2            3         1       3   \n",
      "3            4         1       1   \n",
      "4            5         0       3   \n",
      "\n",
      "                                                Name     Sex   Age  SibSp  \\\n",
      "0                            Braund, Mr. Owen Harris    male  22.0      1   \n",
      "1  Cumings, Mrs. John Bradley (Florence Briggs Th...  female  38.0      1   \n",
      "2                             Heikkinen, Miss. Laina  female  26.0      0   \n",
      "3       Futrelle, Mrs. Jacques Heath (Lily May Peel)  female  35.0      1   \n",
      "4                           Allen, Mr. William Henry    male  35.0      0   \n",
      "\n",
      "   Parch            Ticket     Fare Cabin Embarked  \n",
      "0      0         A/5 21171   7.2500   NaN        S  \n",
      "1      0          PC 17599  71.2833   C85        C  \n",
      "2      0  STON/O2. 3101282   7.9250   NaN        S  \n",
      "3      0            113803  53.1000  C123        S  \n",
      "4      0            373450   8.0500   NaN        S  \n"
     ]
    }
   ],
   "source": [
    "### Load Data from CSVs\n",
    "\n",
    "import numpy as np\n",
    "import pandas as pd\n",
    "\n",
    "filename='titanic_data.csv'\n",
    "titanic_df = pd.read_csv(filename)\n",
    "print (titanic_df.head())"
   ]
  },
  {
   "cell_type": "markdown",
   "metadata": {},
   "source": [
    "### First we will group data by survival and see the age in correlation to survival\n",
    "\n",
    "does the age affect the survival chance in any way\n",
    "- we first grouped the passengers by the survival to get the age statistics of those who survived like the mean age and the std. we notice that mean for both cases is the same age.\n",
    "- plotting the histogram. both look very similar\n",
    "- calculating pearson coeeficient we get -0.07 which is a relationship.\n",
    "- so from below we can conclude that age alone does not affect survival chances.\n",
    "- trying to split the age into categories versus the survival rate. we notice that people who are below 14 had a survival rate of .6 compared to people above 50 with a survival rate of .3"
   ]
  },
  {
   "cell_type": "code",
   "execution_count": 56,
   "metadata": {},
   "outputs": [
    {
     "name": "stdout",
     "output_type": "stream",
     "text": [
      "            Age                                                    \n",
      "          count       mean        std   min   25%   50%   75%   max\n",
      "Survived                                                           \n",
      "0         424.0  30.626179  14.172110  1.00  21.0  28.0  39.0  74.0\n",
      "1         290.0  28.343690  14.950952  0.42  19.0  28.0  36.0  80.0\n"
     ]
    }
   ],
   "source": [
    "import matplotlib.pyplot as plt\n",
    "import numpy as np\n",
    "import pandas as pd\n",
    "\n",
    "passengers = titanic_df[['Age', 'Survived']] \n",
    "passengers_grouped=passengers.groupby('Survived')\n",
    "print (passengers_grouped.describe())"
   ]
  },
  {
   "cell_type": "code",
   "execution_count": 52,
   "metadata": {},
   "outputs": [
    {
     "name": "stdout",
     "output_type": "stream",
     "text": [
      "Populating the interactive namespace from numpy and matplotlib\n"
     ]
    },
    {
     "data": {
      "text/plain": [
       "Survived\n",
       "0    [[Axes(0.125,0.125;0.775x0.755)]]\n",
       "1    [[Axes(0.125,0.125;0.775x0.755)]]\n",
       "dtype: object"
      ]
     },
     "execution_count": 52,
     "metadata": {},
     "output_type": "execute_result"
    },
    {
     "data": {
      "image/png": "[encoded data removed]",
      "text/plain": [
       "<matplotlib.figure.Figure at 0x2b36d80bf60>"
      ]
     },
     "metadata": {},
     "output_type": "display_data"
    },
    {
     "data": {
      "image/png": "[encoded data removed]",
      "text/plain": [
       "<matplotlib.figure.Figure at 0x2b36db567b8>"
      ]
     },
     "metadata": {},
     "output_type": "display_data"
    }
   ],
   "source": [
    "%pylab inline\n",
    "passengers_grouped.hist()"
   ]
  },
  {
   "cell_type": "code",
   "execution_count": 57,
   "metadata": {},
   "outputs": [
    {
     "name": "stdout",
     "output_type": "stream",
     "text": [
      "-0.0772210945722\n"
     ]
    }
   ],
   "source": [
    "# pearson correlation of data\n",
    "print (passengers['Survived'].corr(passengers['Age'], method='pearson') )\n"
   ]
  },
  {
   "cell_type": "code",
   "execution_count": 92,
   "metadata": {},
   "outputs": [
    {
     "data": {
      "text/html": [
       "<div>\n",
       "<style>\n",
       "    .dataframe thead tr:only-child th {\n",
       "        text-align: right;\n",
       "    }\n",
       "\n",
       "    .dataframe thead th {\n",
       "        text-align: left;\n",
       "    }\n",
       "\n",
       "    .dataframe tbody tr th {\n",
       "        vertical-align: top;\n",
       "    }\n",
       "</style>\n",
       "<table border=\"1\" class=\"dataframe\">\n",
       "  <thead>\n",
       "    <tr style=\"text-align: right;\">\n",
       "      <th></th>\n",
       "      <th>Age</th>\n",
       "      <th>Survived</th>\n",
       "    </tr>\n",
       "    <tr>\n",
       "      <th>Age</th>\n",
       "      <th></th>\n",
       "      <th></th>\n",
       "    </tr>\n",
       "  </thead>\n",
       "  <tbody>\n",
       "    <tr>\n",
       "      <th>(0.419, 14.0]</th>\n",
       "      <td>77</td>\n",
       "      <td>77</td>\n",
       "    </tr>\n",
       "    <tr>\n",
       "      <th>(14.0, 19.0]</th>\n",
       "      <td>87</td>\n",
       "      <td>87</td>\n",
       "    </tr>\n",
       "    <tr>\n",
       "      <th>(19.0, 22.0]</th>\n",
       "      <td>67</td>\n",
       "      <td>67</td>\n",
       "    </tr>\n",
       "    <tr>\n",
       "      <th>(22.0, 25.0]</th>\n",
       "      <td>70</td>\n",
       "      <td>70</td>\n",
       "    </tr>\n",
       "    <tr>\n",
       "      <th>(25.0, 28.0]</th>\n",
       "      <td>61</td>\n",
       "      <td>61</td>\n",
       "    </tr>\n",
       "    <tr>\n",
       "      <th>(28.0, 31.8]</th>\n",
       "      <td>66</td>\n",
       "      <td>66</td>\n",
       "    </tr>\n",
       "    <tr>\n",
       "      <th>(31.8, 36.0]</th>\n",
       "      <td>91</td>\n",
       "      <td>91</td>\n",
       "    </tr>\n",
       "    <tr>\n",
       "      <th>(36.0, 41.0]</th>\n",
       "      <td>53</td>\n",
       "      <td>53</td>\n",
       "    </tr>\n",
       "    <tr>\n",
       "      <th>(41.0, 50.0]</th>\n",
       "      <td>78</td>\n",
       "      <td>78</td>\n",
       "    </tr>\n",
       "    <tr>\n",
       "      <th>(50.0, 80.0]</th>\n",
       "      <td>64</td>\n",
       "      <td>64</td>\n",
       "    </tr>\n",
       "  </tbody>\n",
       "</table>\n",
       "</div>"
      ],
      "text/plain": [
       "               Age  Survived\n",
       "Age                         \n",
       "(0.419, 14.0]   77        77\n",
       "(14.0, 19.0]    87        87\n",
       "(19.0, 22.0]    67        67\n",
       "(22.0, 25.0]    70        70\n",
       "(25.0, 28.0]    61        61\n",
       "(28.0, 31.8]    66        66\n",
       "(31.8, 36.0]    91        91\n",
       "(36.0, 41.0]    53        53\n",
       "(41.0, 50.0]    78        78\n",
       "(50.0, 80.0]    64        64"
      ]
     },
     "execution_count": 92,
     "metadata": {},
     "output_type": "execute_result"
    }
   ],
   "source": [
    "passengers = titanic_df[['Age', 'Survived']] \n",
    "age_categories = passengers.groupby([pd.qcut(passengers['Age'], q=10)])\n",
    "age_categories.count() "
   ]
  },
  {
   "cell_type": "code",
   "execution_count": 93,
   "metadata": {},
   "outputs": [
    {
     "data": {
      "image/png": "[encoded data removed]",
      "text/plain": [
       "<matplotlib.figure.Figure at 0x2b364288ef0>"
      ]
     },
     "metadata": {},
     "output_type": "display_data"
    }
   ],
   "source": [
    "age_categories['Survived'].mean().plot.bar(color='g'); "
   ]
  },
  {
   "cell_type": "markdown",
   "metadata": {},
   "source": [
    "## Gender survival rate\n",
    "we grouped the data by the gender. \n",
    "- after checking the statistics we can tell that mean for females is above .7 which means most females survived compared to males who had a mean of .18. \n",
    "- histogram shows that most females survived compared to males.\n"
   ]
  },
  {
   "cell_type": "code",
   "execution_count": 68,
   "metadata": {},
   "outputs": [
    {
     "name": "stdout",
     "output_type": "stream",
     "text": [
      "       Survived                                             \n",
      "          count      mean       std  min  25%  50%  75%  max\n",
      "Sex                                                         \n",
      "female    314.0  0.742038  0.438211  0.0  0.0  1.0  1.0  1.0\n",
      "male      577.0  0.188908  0.391775  0.0  0.0  0.0  0.0  1.0\n"
     ]
    }
   ],
   "source": [
    "import matplotlib.pyplot as plt\n",
    "import numpy as np\n",
    "import pandas as pd\n",
    "\n",
    "passengers = titanic_df[['Sex', 'Survived']] \n",
    "passengers_grouped=passengers.groupby(['Sex'])\n",
    "\n",
    "\n",
    "print (passengers_grouped.describe())"
   ]
  },
  {
   "cell_type": "code",
   "execution_count": 71,
   "metadata": {},
   "outputs": [
    {
     "name": "stdout",
     "output_type": "stream",
     "text": [
      "Populating the interactive namespace from numpy and matplotlib\n"
     ]
    },
    {
     "data": {
      "text/plain": [
       "Sex\n",
       "female    [[Axes(0.125,0.125;0.775x0.755)]]\n",
       "male      [[Axes(0.125,0.125;0.775x0.755)]]\n",
       "dtype: object"
      ]
     },
     "execution_count": 71,
     "metadata": {},
     "output_type": "execute_result"
    },
    {
     "data": {
      "image/png": "[encoded data removed]",
      "text/plain": [
       "<matplotlib.figure.Figure at 0x2b36de68320>"
      ]
     },
     "metadata": {},
     "output_type": "display_data"
    },
    {
     "data": {
      "image/png": "[encoded data removed]",
      "text/plain": [
       "<matplotlib.figure.Figure at 0x2b36dee4ac8>"
      ]
     },
     "metadata": {},
     "output_type": "display_data"
    }
   ],
   "source": [
    "%pylab inline\n",
    "passengers_grouped.hist()"
   ]
  },
  {
   "cell_type": "markdown",
   "metadata": {},
   "source": [
    "## socio-economic status (SES) \n",
    "- Most people on 1st class survived with a mean of .62 compared to 0.47 for 2nd and .24\n",
    "- from histpgram we can tell:\n",
    "    - 1st class more people survived compared to those who passed away\n",
    "    - 2nd class almost 50% chance\n",
    "    - 3rd class most people did not survive\n",
    "- pearson's correlation was -0.338. which is considered highly significant based on http://www.socscistatistics.com/pvalues/pearsondistribution.aspx calculator.(N is 891)      \n",
    " \n"
   ]
  },
  {
   "cell_type": "code",
   "execution_count": 74,
   "metadata": {},
   "outputs": [
    {
     "name": "stdout",
     "output_type": "stream",
     "text": [
      "       Survived                                             \n",
      "          count      mean       std  min  25%  50%  75%  max\n",
      "Pclass                                                      \n",
      "1         216.0  0.629630  0.484026  0.0  0.0  1.0  1.0  1.0\n",
      "2         184.0  0.472826  0.500623  0.0  0.0  0.0  1.0  1.0\n",
      "3         491.0  0.242363  0.428949  0.0  0.0  0.0  0.0  1.0\n"
     ]
    }
   ],
   "source": [
    "import matplotlib.pyplot as plt\n",
    "import numpy as np\n",
    "import pandas as pd\n",
    "\n",
    "passengers = titanic_df[['Pclass', 'Survived']] \n",
    "\n",
    "passengers_grouped=passengers.groupby(['Pclass'])\n",
    "\n",
    "\n",
    "print (passengers_grouped.describe())"
   ]
  },
  {
   "cell_type": "code",
   "execution_count": 75,
   "metadata": {},
   "outputs": [
    {
     "name": "stdout",
     "output_type": "stream",
     "text": [
      "Populating the interactive namespace from numpy and matplotlib\n"
     ]
    },
    {
     "data": {
      "text/plain": [
       "Pclass\n",
       "1    [[Axes(0.125,0.125;0.775x0.755)]]\n",
       "2    [[Axes(0.125,0.125;0.775x0.755)]]\n",
       "3    [[Axes(0.125,0.125;0.775x0.755)]]\n",
       "dtype: object"
      ]
     },
     "execution_count": 75,
     "metadata": {},
     "output_type": "execute_result"
    },
    {
     "data": {
      "image/png": "[encoded data removed]",
      "text/plain": [
       "<matplotlib.figure.Figure at 0x2b36defbc50>"
      ]
     },
     "metadata": {},
     "output_type": "display_data"
    },
    {
     "data": {
      "image/png": "[encoded data removed]",
      "text/plain": [
       "<matplotlib.figure.Figure at 0x2b36e273748>"
      ]
     },
     "metadata": {},
     "output_type": "display_data"
    },
    {
     "data": {
      "image/png": "[encoded data removed]",
      "text/plain": [
       "<matplotlib.figure.Figure at 0x2b36e2f89e8>"
      ]
     },
     "metadata": {},
     "output_type": "display_data"
    }
   ],
   "source": [
    "%pylab inline\n",
    "passengers_grouped.hist()"
   ]
  },
  {
   "cell_type": "code",
   "execution_count": 76,
   "metadata": {},
   "outputs": [
    {
     "name": "stdout",
     "output_type": "stream",
     "text": [
      "-0.338481035961\n"
     ]
    }
   ],
   "source": [
    "# pearson correlation of data\n",
    "print (passengers['Survived'].corr(passengers['Pclass'], method='pearson') )"
   ]
  },
  {
   "cell_type": "markdown",
   "metadata": {},
   "source": [
    "## Fare\n",
    "- For the fare i split into categories using qcut functions. we noticed that the survival rate for people who had paid above 56 is .7.\n",
    "- the bar diagram shows that with increased fare we have an increased survival rate\n",
    "- correlation is 0.25730652238496249. so the higher the fare the higher the chance of survival \n"
   ]
  },
  {
   "cell_type": "code",
   "execution_count": 103,
   "metadata": {},
   "outputs": [
    {
     "data": {
      "text/html": [
       "<div>\n",
       "<style>\n",
       "    .dataframe thead tr:only-child th {\n",
       "        text-align: right;\n",
       "    }\n",
       "\n",
       "    .dataframe thead th {\n",
       "        text-align: left;\n",
       "    }\n",
       "\n",
       "    .dataframe tbody tr th {\n",
       "        vertical-align: top;\n",
       "    }\n",
       "</style>\n",
       "<table border=\"1\" class=\"dataframe\">\n",
       "  <thead>\n",
       "    <tr style=\"text-align: right;\">\n",
       "      <th></th>\n",
       "      <th>Fare</th>\n",
       "      <th>Survived</th>\n",
       "    </tr>\n",
       "    <tr>\n",
       "      <th>Fare</th>\n",
       "      <th></th>\n",
       "      <th></th>\n",
       "    </tr>\n",
       "  </thead>\n",
       "  <tbody>\n",
       "    <tr>\n",
       "      <th>(-0.001, 7.75]</th>\n",
       "      <td>140</td>\n",
       "      <td>140</td>\n",
       "    </tr>\n",
       "    <tr>\n",
       "      <th>(7.75, 8.05]</th>\n",
       "      <td>145</td>\n",
       "      <td>145</td>\n",
       "    </tr>\n",
       "    <tr>\n",
       "      <th>(8.05, 12.475]</th>\n",
       "      <td>98</td>\n",
       "      <td>98</td>\n",
       "    </tr>\n",
       "    <tr>\n",
       "      <th>(12.475, 19.258]</th>\n",
       "      <td>128</td>\n",
       "      <td>128</td>\n",
       "    </tr>\n",
       "    <tr>\n",
       "      <th>(19.258, 27.9]</th>\n",
       "      <td>128</td>\n",
       "      <td>128</td>\n",
       "    </tr>\n",
       "    <tr>\n",
       "      <th>(27.9, 56.929]</th>\n",
       "      <td>125</td>\n",
       "      <td>125</td>\n",
       "    </tr>\n",
       "    <tr>\n",
       "      <th>(56.929, 512.329]</th>\n",
       "      <td>127</td>\n",
       "      <td>127</td>\n",
       "    </tr>\n",
       "  </tbody>\n",
       "</table>\n",
       "</div>"
      ],
      "text/plain": [
       "                   Fare  Survived\n",
       "Fare                             \n",
       "(-0.001, 7.75]      140       140\n",
       "(7.75, 8.05]        145       145\n",
       "(8.05, 12.475]       98        98\n",
       "(12.475, 19.258]    128       128\n",
       "(19.258, 27.9]      128       128\n",
       "(27.9, 56.929]      125       125\n",
       "(56.929, 512.329]   127       127"
      ]
     },
     "execution_count": 103,
     "metadata": {},
     "output_type": "execute_result"
    }
   ],
   "source": [
    "import matplotlib.pyplot as plt\n",
    "import numpy as np\n",
    "import pandas as pd\n",
    "\n",
    "passengers = titanic_df[['Fare', 'Survived']] \n",
    "\n",
    "fare_categories = passengers.groupby([pd.qcut(passengers['Fare'], q=7)])\n",
    "fare_categories.count() "
   ]
  },
  {
   "cell_type": "code",
   "execution_count": 104,
   "metadata": {},
   "outputs": [
    {
     "name": "stdout",
     "output_type": "stream",
     "text": [
      "Populating the interactive namespace from numpy and matplotlib\n"
     ]
    },
    {
     "data": {
      "image/png": "[encoded data removed]",
      "text/plain": [
       "<matplotlib.figure.Figure at 0x2b37227b748>"
      ]
     },
     "metadata": {},
     "output_type": "display_data"
    }
   ],
   "source": [
    "%pylab inline\n",
    "fare_categories['Survived'].mean().plot.bar(color='g'); "
   ]
  },
  {
   "cell_type": "code",
   "execution_count": 96,
   "metadata": {},
   "outputs": [
    {
     "data": {
      "text/plain": [
       "0.25730652238496249"
      ]
     },
     "execution_count": 96,
     "metadata": {},
     "output_type": "execute_result"
    }
   ],
   "source": [
    "passengers['Survived'].corr(passengers['Fare'], method='pearson') "
   ]
  },
  {
   "cell_type": "markdown",
   "metadata": {},
   "source": [
    "## Parents with parents on board\n",
    "- we can see from describe that survival rate for parch of 3 has the highest survival rate of .6 \n",
    "- but pearson correlation gives 0.081629407083483485 so it is a weak correlation "
   ]
  },
  {
   "cell_type": "code",
   "execution_count": 107,
   "metadata": {},
   "outputs": [
    {
     "name": "stdout",
     "output_type": "stream",
     "text": [
      "      Survived                                             \n",
      "         count      mean       std  min  25%  50%  75%  max\n",
      "Parch                                                      \n",
      "0        678.0  0.343658  0.475279  0.0  0.0  0.0  1.0  1.0\n",
      "1        118.0  0.550847  0.499529  0.0  0.0  1.0  1.0  1.0\n",
      "2         80.0  0.500000  0.503155  0.0  0.0  0.5  1.0  1.0\n",
      "3          5.0  0.600000  0.547723  0.0  0.0  1.0  1.0  1.0\n",
      "4          4.0  0.000000  0.000000  0.0  0.0  0.0  0.0  0.0\n",
      "5          5.0  0.200000  0.447214  0.0  0.0  0.0  0.0  1.0\n",
      "6          1.0  0.000000       NaN  0.0  0.0  0.0  0.0  0.0\n"
     ]
    }
   ],
   "source": [
    "import matplotlib.pyplot as plt\n",
    "import numpy as np\n",
    "import pandas as pd\n",
    "\n",
    "passengers = titanic_df[['Parch', 'Survived']] \n",
    "\n",
    "passengers_grouped=passengers.groupby(['Parch'])\n",
    "\n",
    "\n",
    "print (passengers_grouped.describe())"
   ]
  },
  {
   "cell_type": "code",
   "execution_count": 111,
   "metadata": {},
   "outputs": [
    {
     "name": "stdout",
     "output_type": "stream",
     "text": [
      "Populating the interactive namespace from numpy and matplotlib\n"
     ]
    },
    {
     "data": {
      "image/png": "[encoded data removed]",
      "text/plain": [
       "<matplotlib.figure.Figure at 0x2b3729cee10>"
      ]
     },
     "metadata": {},
     "output_type": "display_data"
    }
   ],
   "source": [
    "%pylab inline\n",
    "#passengers_grouped.hist()\n",
    "passengers_grouped.mean().plot.bar(color='g'); "
   ]
  },
  {
   "cell_type": "code",
   "execution_count": 112,
   "metadata": {},
   "outputs": [
    {
     "data": {
      "text/plain": [
       "0.081629407083483485"
      ]
     },
     "execution_count": 112,
     "metadata": {},
     "output_type": "execute_result"
    }
   ],
   "source": [
    "passengers['Survived'].corr(passengers['Parch'], method='pearson') "
   ]
  },
  {
   "cell_type": "markdown",
   "metadata": {},
   "source": [
    "##  family relation \n",
    "- number of siblings / spouses aboard the Titanic\n",
    "- pearson correlation: 0.035322498885735597\n",
    "\n",
    "\n",
    "\n"
   ]
  },
  {
   "cell_type": "code",
   "execution_count": 114,
   "metadata": {},
   "outputs": [
    {
     "name": "stdout",
     "output_type": "stream",
     "text": [
      "      Survived                                              \n",
      "         count      mean       std  min  25%  50%   75%  max\n",
      "SibSp                                                       \n",
      "0        608.0  0.345395  0.475888  0.0  0.0  0.0  1.00  1.0\n",
      "1        209.0  0.535885  0.499908  0.0  0.0  1.0  1.00  1.0\n",
      "2         28.0  0.464286  0.507875  0.0  0.0  0.0  1.00  1.0\n",
      "3         16.0  0.250000  0.447214  0.0  0.0  0.0  0.25  1.0\n",
      "4         18.0  0.166667  0.383482  0.0  0.0  0.0  0.00  1.0\n",
      "5          5.0  0.000000  0.000000  0.0  0.0  0.0  0.00  0.0\n",
      "8          7.0  0.000000  0.000000  0.0  0.0  0.0  0.00  0.0\n"
     ]
    }
   ],
   "source": [
    "import matplotlib.pyplot as plt\n",
    "import numpy as np\n",
    "import pandas as pd\n",
    "\n",
    "passengers = titanic_df[['SibSp', 'Survived']] \n",
    "\n",
    "passengers_grouped=passengers.groupby(['SibSp'])\n",
    "\n",
    "\n",
    "print (passengers_grouped.describe())"
   ]
  },
  {
   "cell_type": "code",
   "execution_count": 115,
   "metadata": {},
   "outputs": [
    {
     "name": "stdout",
     "output_type": "stream",
     "text": [
      "Populating the interactive namespace from numpy and matplotlib\n"
     ]
    },
    {
     "data": {
      "image/png": "[encoded data removed]",
      "text/plain": [
       "<matplotlib.figure.Figure at 0x2b362ef3080>"
      ]
     },
     "metadata": {},
     "output_type": "display_data"
    }
   ],
   "source": [
    "%pylab inline\n",
    "#passengers_grouped.hist()\n",
    "passengers_grouped.mean().plot.bar(color='g'); "
   ]
  },
  {
   "cell_type": "code",
   "execution_count": 116,
   "metadata": {},
   "outputs": [
    {
     "data": {
      "text/plain": [
       "-0.035322498885735597"
      ]
     },
     "execution_count": 116,
     "metadata": {},
     "output_type": "execute_result"
    }
   ],
   "source": [
    "passengers['Survived'].corr(passengers['SibSp'], method='pearson') "
   ]
  },
  {
   "cell_type": "markdown",
   "metadata": {},
   "source": [
    "## females and age below 18\n",
    "- more than one factor females and children below 18 more likely ?\n",
    "- we can see age groups that are more likely to survive"
   ]
  },
  {
   "cell_type": "code",
   "execution_count": 126,
   "metadata": {},
   "outputs": [],
   "source": [
    "import matplotlib.pyplot as plt\n",
    "import numpy as np\n",
    "import pandas as pd\n",
    "\n",
    "passengers = titanic_df[['Sex', 'Survived','Age']] \n",
    "\n",
    "age_categories = passengers.groupby([pd.qcut(passengers['Age'], q=10),'Sex'])"
   ]
  },
  {
   "cell_type": "code",
   "execution_count": 120,
   "metadata": {},
   "outputs": [
    {
     "name": "stdout",
     "output_type": "stream",
     "text": [
      "Populating the interactive namespace from numpy and matplotlib\n"
     ]
    },
    {
     "data": {
      "image/png": "[encoded data removed]",
      "text/plain": [
       "<matplotlib.figure.Figure at 0x2b3722afb38>"
      ]
     },
     "metadata": {},
     "output_type": "display_data"
    }
   ],
   "source": [
    "%pylab inline\n",
    "age_categories['Survived'].mean().plot.bar(color='g'); "
   ]
  },
  {
   "cell_type": "markdown",
   "metadata": {},
   "source": []
  }
 ],
 "metadata": {
  "kernelspec": {
   "display_name": "Python [conda env:tea-facts]",
   "language": "python",
   "name": "conda-env-tea-facts-py"
  },
  "language_info": {
   "codemirror_mode": {
    "name": "ipython",
    "version": 3
   },
   "file_extension": ".py",
   "mimetype": "text/x-python",
   "name": "python",
   "nbconvert_exporter": "python",
   "pygments_lexer": "ipython3",
   "version": "3.6.2"
  }
 },
 "nbformat": 4,
 "nbformat_minor": 2
}
